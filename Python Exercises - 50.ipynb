{
 "cells": [
  {
   "cell_type": "code",
   "execution_count": 0,
   "metadata": {
    "application/vnd.databricks.v1+cell": {
     "cellMetadata": {
      "byteLimit": 2048000,
      "rowLimit": 10000
     },
     "inputWidgets": {},
     "nuid": "88aa5d3f-7096-4852-84eb-7063363911e8",
     "showTitle": false,
     "tableResultSettingsMap": {},
     "title": ""
    }
   },
   "outputs": [
    {
     "output_type": "stream",
     "name": "stdout",
     "output_type": "stream",
     "text": [
      "Out[54]: 12"
     ]
    }
   ],
   "source": [
    "# Bonus Question\n",
    "# sum of the digits in a number without using arithmetic operators\n",
    "import math\n",
    "a = 345\n",
    "b = str(a)\n",
    "c=sum(list(map(int,b.strip())))\n",
    "c"
   ]
  },
  {
   "cell_type": "code",
   "execution_count": 0,
   "metadata": {
    "application/vnd.databricks.v1+cell": {
     "cellMetadata": {
      "byteLimit": 2048000,
      "rowLimit": 10000
     },
     "inputWidgets": {},
     "nuid": "e9180bce-f23a-4d83-a28e-e122222c35bb",
     "showTitle": false,
     "tableResultSettingsMap": {},
     "title": ""
    }
   },
   "outputs": [
    {
     "output_type": "stream",
     "name": "stdout",
     "output_type": "stream",
     "text": [
      "Out[1]: [1, 9, 25, 49, 81, 121, 169, 225, 289, 361]"
     ]
    }
   ],
   "source": [
    "# 1. List Comprehension: Squares of Odd Numbers\n",
    "# Create a list of the squares of odd numbers between 1 and 20.\n",
    "\n",
    "[i**2 for i in range(1,21) if i%2 != 0]"
   ]
  },
  {
   "cell_type": "code",
   "execution_count": 0,
   "metadata": {
    "application/vnd.databricks.v1+cell": {
     "cellMetadata": {
      "byteLimit": 2048000,
      "rowLimit": 10000
     },
     "inputWidgets": {},
     "nuid": "8552b4b1-a04d-4d58-a9ef-867ddbcf17da",
     "showTitle": false,
     "tableResultSettingsMap": {},
     "title": ""
    }
   },
   "outputs": [
    {
     "output_type": "stream",
     "name": "stdout",
     "output_type": "stream",
     "text": [
      "Out[2]: [4, 31]"
     ]
    }
   ],
   "source": [
    "# 2. Filter a List\n",
    "# Given a list of numbers, filter out the numbers that are not divisible by 3.\n",
    "\n",
    "numbers = [4, 9, 15, 24, 31, 36, 42]\n",
    "[i for i in numbers if i%3 != 0]"
   ]
  },
  {
   "cell_type": "code",
   "execution_count": 0,
   "metadata": {
    "application/vnd.databricks.v1+cell": {
     "cellMetadata": {
      "byteLimit": 2048000,
      "rowLimit": 10000
     },
     "inputWidgets": {},
     "nuid": "27e00ebf-9096-489b-bd5e-0c0599201286",
     "showTitle": false,
     "tableResultSettingsMap": {},
     "title": ""
    }
   },
   "outputs": [
    {
     "output_type": "stream",
     "name": "stdout",
     "output_type": "stream",
     "text": [
      "Out[3]: [1, 2, 3, 4, 5, 6]"
     ]
    }
   ],
   "source": [
    "# 3. Flatten a List of Tuples\n",
    "# Given the list of tuples, flatten it into a single list using list comprehension:\n",
    "\n",
    "tuples_list = [(1, 2), (3, 4), (5, 6)]\n",
    "[j for i in tuples_list for j in i]"
   ]
  },
  {
   "cell_type": "code",
   "execution_count": 0,
   "metadata": {
    "application/vnd.databricks.v1+cell": {
     "cellMetadata": {
      "byteLimit": 2048000,
      "rowLimit": 10000
     },
     "inputWidgets": {},
     "nuid": "03b3c654-06ea-462f-b51e-39055a0b4a8c",
     "showTitle": false,
     "tableResultSettingsMap": {},
     "title": ""
    }
   },
   "outputs": [
    {
     "output_type": "stream",
     "name": "stdout",
     "output_type": "stream",
     "text": [
      "Out[4]: {0: 32.0,\n 1: 33.8,\n 2: 35.6,\n 3: 37.4,\n 4: 39.2,\n 5: 41.0,\n 6: 42.8,\n 7: 44.6,\n 8: 46.4,\n 9: 48.2,\n 10: 50.0,\n 11: 51.8,\n 12: 53.6,\n 13: 55.4,\n 14: 57.2,\n 15: 59.0,\n 16: 60.8,\n 17: 62.6,\n 18: 64.4,\n 19: 66.2,\n 20: 68.0,\n 21: 69.8,\n 22: 71.6,\n 23: 73.4,\n 24: 75.2,\n 25: 77.0,\n 26: 78.8,\n 27: 80.6,\n 28: 82.4,\n 29: 84.2,\n 30: 86.0,\n 31: 87.8,\n 32: 89.6,\n 33: 91.4,\n 34: 93.2,\n 35: 95.0,\n 36: 96.8,\n 37: 98.6,\n 38: 100.4,\n 39: 102.2,\n 40: 104.0,\n 41: 105.8,\n 42: 107.6,\n 43: 109.4,\n 44: 111.2,\n 45: 113.0,\n 46: 114.8,\n 47: 116.6,\n 48: 118.4,\n 49: 120.2,\n 50: 122.0,\n 51: 123.8,\n 52: 125.6,\n 53: 127.4,\n 54: 129.2,\n 55: 131.0,\n 56: 132.8,\n 57: 134.6,\n 58: 136.4,\n 59: 138.2,\n 60: 140.0,\n 61: 141.8,\n 62: 143.6,\n 63: 145.4,\n 64: 147.2,\n 65: 149.0,\n 66: 150.8,\n 67: 152.6,\n 68: 154.4,\n 69: 156.2,\n 70: 158.0,\n 71: 159.8,\n 72: 161.6,\n 73: 163.4,\n 74: 165.2,\n 75: 167.0,\n 76: 168.8,\n 77: 170.6,\n 78: 172.4,\n 79: 174.2,\n 80: 176.0,\n 81: 177.8,\n 82: 179.6,\n 83: 181.4,\n 84: 183.2,\n 85: 185.0,\n 86: 186.8,\n 87: 188.6,\n 88: 190.4,\n 89: 192.2,\n 90: 194.0,\n 91: 195.8,\n 92: 197.6,\n 93: 199.4,\n 94: 201.2,\n 95: 203.0,\n 96: 204.8,\n 97: 206.6,\n 98: 208.4,\n 99: 210.2,\n 100: 212.0}"
     ]
    }
   ],
   "source": [
    "# 4. Dictionary Comprehension: Convert Celsius to Fahrenheit\n",
    "# Create a dictionary where the keys are temperatures in Celsius from 0 to 100, and the values are their corresponding Fahrenheit values using the formula: F = C * 9/5 + 32.\n",
    "\n",
    "{i:i*9/5+32 for i in range(0,101)}"
   ]
  },
  {
   "cell_type": "code",
   "execution_count": 0,
   "metadata": {
    "application/vnd.databricks.v1+cell": {
     "cellMetadata": {
      "byteLimit": 2048000,
      "rowLimit": 10000
     },
     "inputWidgets": {},
     "nuid": "10c1a152-ef31-4694-9073-670cdbd4e66d",
     "showTitle": false,
     "tableResultSettingsMap": {},
     "title": ""
    }
   },
   "outputs": [
    {
     "output_type": "stream",
     "name": "stdout",
     "output_type": "stream",
     "text": [
      "Out[5]: {'laptop': 800, 'monitor': 120}"
     ]
    }
   ],
   "source": [
    "# 5. Filter a Dictionary\n",
    "# Given a dictionary of items with their prices, create a new dictionary that only includes items with prices greater than $50.\n",
    "\n",
    "prices = {'laptop': 800, 'keyboard': 40, 'mouse': 25, 'monitor': 120}\n",
    "{i:j for i,j in prices.items() if j>50}"
   ]
  },
  {
   "cell_type": "code",
   "execution_count": 0,
   "metadata": {
    "application/vnd.databricks.v1+cell": {
     "cellMetadata": {
      "byteLimit": 2048000,
      "rowLimit": 10000
     },
     "inputWidgets": {},
     "nuid": "57559921-abfb-4339-9072-9e1208373dd6",
     "showTitle": false,
     "tableResultSettingsMap": {},
     "title": ""
    }
   },
   "outputs": [
    {
     "output_type": "stream",
     "name": "stdout",
     "output_type": "stream",
     "text": [
      "Out[6]: {'Alice': 85, 'Bob': 92, 'Charlie': 78}"
     ]
    }
   ],
   "source": [
    "# 6. Map Two Lists to a Dictionary\n",
    "# Given two lists of equal length, one with student names and one with their grades, create a dictionary that maps each student to their grade.\n",
    "\n",
    "students = ['Alice', 'Bob', 'Charlie']\n",
    "grades = [85, 92, 78]\n",
    "dict(zip(students, grades))"
   ]
  },
  {
   "cell_type": "code",
   "execution_count": 0,
   "metadata": {
    "application/vnd.databricks.v1+cell": {
     "cellMetadata": {
      "byteLimit": 2048000,
      "rowLimit": 10000
     },
     "inputWidgets": {},
     "nuid": "d43d57ef-a2e1-423d-aaa1-cf8c13e5723e",
     "showTitle": false,
     "tableResultSettingsMap": {},
     "title": ""
    }
   },
   "outputs": [
    {
     "output_type": "stream",
     "name": "stdout",
     "output_type": "stream",
     "text": [
      "Out[7]: [3, 'negative', 9, 'negative', 5, 'negative']"
     ]
    }
   ],
   "source": [
    "# 7. Conditional List Comprehension\n",
    "# Create a list that replaces any negative numbers in a given list with the string \"negative\".\n",
    "\n",
    "numbers = [3, -2, 9, -7, 5, -1]\n",
    "['negative' if each < 0 else each for each in numbers]"
   ]
  },
  {
   "cell_type": "code",
   "execution_count": 0,
   "metadata": {
    "application/vnd.databricks.v1+cell": {
     "cellMetadata": {
      "byteLimit": 2048000,
      "rowLimit": 10000
     },
     "inputWidgets": {},
     "nuid": "11e1e4dc-3d0d-4961-84e0-b257215b74e8",
     "showTitle": false,
     "tableResultSettingsMap": {},
     "title": ""
    }
   },
   "outputs": [
    {
     "output_type": "stream",
     "name": "stdout",
     "output_type": "stream",
     "text": [
      "Out[8]: {1: {1, 2, 3, 4, 5},\n 2: {2, 4, 6, 8, 10},\n 3: {3, 6, 9, 12, 15},\n 4: {4, 8, 12, 16, 20},\n 5: {5, 10, 15, 20, 25}}"
     ]
    }
   ],
   "source": [
    "# 8. Nested Dictionary: Generate Multiplication Table\n",
    "# Generate a dictionary where the keys are numbers from 1 to 5, and the values are dictionaries with their multiplication tables up to 5.\n",
    "\n",
    "{i:{i*j for j in range(1,6)} for i in range(1,6)}"
   ]
  },
  {
   "cell_type": "code",
   "execution_count": 0,
   "metadata": {
    "application/vnd.databricks.v1+cell": {
     "cellMetadata": {
      "byteLimit": 2048000,
      "rowLimit": 10000
     },
     "inputWidgets": {},
     "nuid": "4f01a811-3856-417a-96fd-5e6ac099946d",
     "showTitle": false,
     "tableResultSettingsMap": {},
     "title": ""
    }
   },
   "outputs": [
    {
     "output_type": "stream",
     "name": "stdout",
     "output_type": "stream",
     "text": [
      "Out[81]: {1: {1: 1, 2: 2, 3: 3, 4: 4, 5: 5},\n 2: {1: 2, 2: 4, 3: 6, 4: 8, 5: 10},\n 3: {1: 3, 2: 6, 3: 9, 4: 12, 5: 15},\n 4: {1: 4, 2: 8, 3: 12, 4: 16, 5: 20},\n 5: {1: 5, 2: 10, 3: 15, 4: 20, 5: 25}}"
     ]
    }
   ],
   "source": [
    "{i: {j:i*j for j in range(1,6)} for i in range(1,6)}"
   ]
  },
  {
   "cell_type": "code",
   "execution_count": 0,
   "metadata": {
    "application/vnd.databricks.v1+cell": {
     "cellMetadata": {
      "byteLimit": 2048000,
      "rowLimit": 10000
     },
     "inputWidgets": {},
     "nuid": "658b24ba-df77-4aaa-8a1e-81cad1d0acec",
     "showTitle": false,
     "tableResultSettingsMap": {},
     "title": ""
    }
   },
   "outputs": [
    {
     "output_type": "stream",
     "name": "stdout",
     "output_type": "stream",
     "text": [
      "Out[9]: [4, 5]"
     ]
    }
   ],
   "source": [
    "# 9. Find Common Elements in Two Lists\n",
    "# Given two lists, find the common elements using list comprehension.\n",
    "\n",
    "list1 = [1, 2, 3, 4, 5]\n",
    "list2 = [4, 5, 6, 7, 8]\n",
    "[i for i in list1 if i in list2]"
   ]
  },
  {
   "cell_type": "code",
   "execution_count": 0,
   "metadata": {
    "application/vnd.databricks.v1+cell": {
     "cellMetadata": {
      "byteLimit": 2048000,
      "rowLimit": 10000
     },
     "inputWidgets": {},
     "nuid": "6f78d0ac-84f3-45b1-b385-6c138e64e41b",
     "showTitle": false,
     "tableResultSettingsMap": {},
     "title": ""
    }
   },
   "outputs": [
    {
     "output_type": "stream",
     "name": "stdout",
     "output_type": "stream",
     "text": [
      "Out[10]: {'Alice': 'name', 25: 'age', 'New York': 'city'}"
     ]
    }
   ],
   "source": [
    "# 10. Reverse Key-Value Pairs in a Dictionary\n",
    "# Given a dictionary, reverse the keys and values using dictionary comprehension.\n",
    "\n",
    "my_dict = {'name': 'Alice', 'age': 25, 'city': 'New York'}\n",
    "{j:i for i,j in my_dict.items()}"
   ]
  },
  {
   "cell_type": "code",
   "execution_count": 0,
   "metadata": {
    "application/vnd.databricks.v1+cell": {
     "cellMetadata": {
      "byteLimit": 2048000,
      "rowLimit": 10000
     },
     "inputWidgets": {},
     "nuid": "b01c911b-9803-479f-8764-6f9b927dccc8",
     "showTitle": false,
     "tableResultSettingsMap": {},
     "title": ""
    }
   },
   "outputs": [
    {
     "output_type": "stream",
     "name": "stdout",
     "output_type": "stream",
     "text": [
      "Out[11]: [1, 2, 3, 4, 5, 6]"
     ]
    }
   ],
   "source": [
    "# 11. Remove Duplicates from a List\n",
    "# Given a list of numbers, remove all duplicate elements and retain only unique numbers.\n",
    "\n",
    "numbers = [1, 2, 2, 3, 4, 4, 5, 6, 6]\n",
    "list(set(numbers))"
   ]
  },
  {
   "cell_type": "code",
   "execution_count": 0,
   "metadata": {
    "application/vnd.databricks.v1+cell": {
     "cellMetadata": {
      "byteLimit": 2048000,
      "rowLimit": 10000
     },
     "inputWidgets": {},
     "nuid": "d00ce704-912a-415d-8cea-e4407e54df33",
     "showTitle": false,
     "tableResultSettingsMap": {},
     "title": ""
    }
   },
   "outputs": [
    {
     "output_type": "stream",
     "name": "stdout",
     "output_type": "stream",
     "text": [
      "Out[12]: [4, 5]"
     ]
    }
   ],
   "source": [
    "# 12. Find the Intersection of Two Lists\n",
    "# Given two lists of numbers, find the intersection (common elements) using a set.\n",
    "\n",
    "list1 = [1, 2, 3, 4, 5]\n",
    "list2 = [4, 5, 6, 7, 8]\n",
    "\n",
    "list(set(list1).intersection(set(list2)))"
   ]
  },
  {
   "cell_type": "code",
   "execution_count": 0,
   "metadata": {
    "application/vnd.databricks.v1+cell": {
     "cellMetadata": {
      "byteLimit": 2048000,
      "rowLimit": 10000
     },
     "inputWidgets": {},
     "nuid": "f6315c93-7fed-4c4d-adfe-3c31ff25ee62",
     "showTitle": false,
     "tableResultSettingsMap": {},
     "title": ""
    }
   },
   "outputs": [
    {
     "output_type": "stream",
     "name": "stdout",
     "output_type": "stream",
     "text": [
      "Out[13]: {'apple': 3, 'banana': 2, 'orange': 2}"
     ]
    }
   ],
   "source": [
    "# 13. Count Frequency of Elements in a List\n",
    "# Given a list, create a dictionary where the keys are the elements of the list and the values are the count of their occurrences.\n",
    "\n",
    "items = ['apple', 'banana', 'orange', 'apple', 'orange', 'banana', 'apple']\n",
    "{i:items.count(i) for i in items}"
   ]
  },
  {
   "cell_type": "code",
   "execution_count": 0,
   "metadata": {
    "application/vnd.databricks.v1+cell": {
     "cellMetadata": {
      "byteLimit": 2048000,
      "rowLimit": 10000
     },
     "inputWidgets": {},
     "nuid": "8258a0d9-679e-4bb3-9875-b287e904832b",
     "showTitle": false,
     "tableResultSettingsMap": {},
     "title": ""
    }
   },
   "outputs": [
    {
     "output_type": "stream",
     "name": "stdout",
     "output_type": "stream",
     "text": [
      "Out[14]: [(5, 1), (4, 2), (1, 3)]"
     ]
    }
   ],
   "source": [
    "# 14. List of Tuples: Sort by Second Element\n",
    "# Given a list of tuples, sort the list by the second element of each tuple.\n",
    "\n",
    "tuples_list = [(1, 3), (4, 2), (5, 1)]\n",
    "tuples_list.reverse()"
   ]
  },
  {
   "cell_type": "code",
   "execution_count": 0,
   "metadata": {
    "application/vnd.databricks.v1+cell": {
     "cellMetadata": {
      "byteLimit": 2048000,
      "rowLimit": 10000
     },
     "inputWidgets": {},
     "nuid": "0cce1ec0-43aa-466a-85c8-8337a51ecb7e",
     "showTitle": false,
     "tableResultSettingsMap": {},
     "title": ""
    }
   },
   "outputs": [
    {
     "output_type": "stream",
     "name": "stdout",
     "output_type": "stream",
     "text": [
      "Out[15]: True"
     ]
    }
   ],
   "source": [
    "# 15. Check for Palindrome\n",
    "# Write a function that checks if a given string is a palindrome (a string that reads the same forward and backward).\n",
    "\n",
    "word = \"madam\"\n",
    "bool(word[::-1] == word)"
   ]
  },
  {
   "cell_type": "code",
   "execution_count": 0,
   "metadata": {
    "application/vnd.databricks.v1+cell": {
     "cellMetadata": {
      "byteLimit": 2048000,
      "rowLimit": 10000
     },
     "inputWidgets": {},
     "nuid": "dd7e40e0-fc4c-4aa0-b8f7-64f92fea0e59",
     "showTitle": false,
     "tableResultSettingsMap": {},
     "title": ""
    }
   },
   "outputs": [
    {
     "output_type": "stream",
     "name": "stdout",
     "output_type": "stream",
     "text": [
      "1 10\n"
     ]
    }
   ],
   "source": [
    "# 16. Find the Maximum and Minimum in a List\n",
    "# Write a Python function that finds both the maximum and minimum numbers in a list without using built-in functions.\n",
    "\n",
    "numbers = [3, 5, 7, 2, 8, 1, 4, 10]\n",
    "minnum = maxnum = numbers[0]\n",
    "for each in numbers[1:]:\n",
    "    if each < minnum:\n",
    "        minnum = each\n",
    "    if each > maxnum:\n",
    "        maxnum = each\n",
    "print(minnum, maxnum)"
   ]
  },
  {
   "cell_type": "code",
   "execution_count": 0,
   "metadata": {
    "application/vnd.databricks.v1+cell": {
     "cellMetadata": {
      "byteLimit": 2048000,
      "rowLimit": 10000
     },
     "inputWidgets": {},
     "nuid": "58532a61-3b00-4038-8f8f-2a513482316b",
     "showTitle": false,
     "tableResultSettingsMap": {},
     "title": ""
    }
   },
   "outputs": [
    {
     "output_type": "stream",
     "name": "stdout",
     "output_type": "stream",
     "text": [
      "Out[17]: '!dlroW ,olleH'"
     ]
    }
   ],
   "source": [
    "# 17. Reverse a String\n",
    "# Write a Python function to reverse a given string.\n",
    "\n",
    "string = \"Hello, World!\"\n",
    "string[::-1]"
   ]
  },
  {
   "cell_type": "code",
   "execution_count": 0,
   "metadata": {
    "application/vnd.databricks.v1+cell": {
     "cellMetadata": {
      "byteLimit": 2048000,
      "rowLimit": 10000
     },
     "inputWidgets": {},
     "nuid": "3fee8e3e-607a-4f88-9c6d-a70daa950717",
     "showTitle": false,
     "tableResultSettingsMap": {},
     "title": ""
    }
   },
   "outputs": [
    {
     "output_type": "stream",
     "name": "stdout",
     "output_type": "stream",
     "text": [
      "Not a prime\n"
     ]
    }
   ],
   "source": [
    "# 18. Check for Prime Numbers\n",
    "# Write a function that checks if a number is prime.\n",
    "\n",
    "num = 16\n",
    "if num > 1:\n",
    "    for i in range(2, num):\n",
    "        if num % i == 0:\n",
    "            print(\"Not a prime\")\n",
    "            break\n",
    "    else:\n",
    "        print(\"Prime\")\n",
    "else:\n",
    "    print(\"Not a Prime\")"
   ]
  },
  {
   "cell_type": "code",
   "execution_count": 0,
   "metadata": {
    "application/vnd.databricks.v1+cell": {
     "cellMetadata": {
      "byteLimit": 2048000,
      "rowLimit": 10000
     },
     "inputWidgets": {},
     "nuid": "1613c9f2-27aa-46b4-bbe8-f47e4dbb6ded",
     "showTitle": false,
     "tableResultSettingsMap": {},
     "title": ""
    }
   },
   "outputs": [
    {
     "output_type": "stream",
     "name": "stdout",
     "output_type": "stream",
     "text": [
      "Out[19]: 120"
     ]
    }
   ],
   "source": [
    "# 19. Calculate Factorial Using Recursion\n",
    "# Write a recursive function to calculate the factorial of a number.\n",
    "\n",
    "num = 5\n",
    "result = [each for each in range(1,num+1)]\n",
    "finalResult = 1\n",
    "for each in result:\n",
    "    finalResult = finalResult * each\n",
    "finalResult"
   ]
  },
  {
   "cell_type": "code",
   "execution_count": 0,
   "metadata": {
    "application/vnd.databricks.v1+cell": {
     "cellMetadata": {
      "byteLimit": 2048000,
      "rowLimit": 10000
     },
     "inputWidgets": {},
     "nuid": "8fd8f347-2fa0-4dc8-9a60-02ef29cb7701",
     "showTitle": false,
     "tableResultSettingsMap": {},
     "title": ""
    }
   },
   "outputs": [
    {
     "output_type": "stream",
     "name": "stdout",
     "output_type": "stream",
     "text": [
      "Out[20]: ['PYTHON', 'DATA', 'SCIENCE', 'AI']"
     ]
    }
   ],
   "source": [
    "# 20. Convert a List of Strings to Uppercase\n",
    "# Write a Python program to convert all strings in a given list to uppercase.\n",
    "\n",
    "words = [\"python\", \"data\", \"science\", \"AI\"]\n",
    "[each.upper() for each in words]"
   ]
  },
  {
   "cell_type": "code",
   "execution_count": 0,
   "metadata": {
    "application/vnd.databricks.v1+cell": {
     "cellMetadata": {
      "byteLimit": 2048000,
      "rowLimit": 10000
     },
     "inputWidgets": {},
     "nuid": "876379b1-004f-457c-92b8-cfaa9355fe3e",
     "showTitle": false,
     "tableResultSettingsMap": {},
     "title": ""
    }
   },
   "outputs": [
    {
     "output_type": "stream",
     "name": "stdout",
     "output_type": "stream",
     "text": [
      "Out[21]: 15"
     ]
    }
   ],
   "source": [
    "# 21. Sum of Digits in an Integer\n",
    "# Write a function that takes an integer and returns the sum of its digits.\n",
    "\n",
    "num = 12345\n",
    "value = 0\n",
    "for each in str(num):\n",
    "    value = value + int(each)\n",
    "value"
   ]
  },
  {
   "cell_type": "code",
   "execution_count": 0,
   "metadata": {
    "application/vnd.databricks.v1+cell": {
     "cellMetadata": {
      "byteLimit": 2048000,
      "rowLimit": 10000
     },
     "inputWidgets": {},
     "nuid": "b2459547-fedb-437d-a2fb-ff1c18c8ad23",
     "showTitle": false,
     "tableResultSettingsMap": {},
     "title": ""
    }
   },
   "outputs": [
    {
     "output_type": "stream",
     "name": "stdout",
     "output_type": "stream",
     "text": [
      "3 Fizz\n5 Buzz\n6 Fizz\n9 Fizz\n10 Buzz\n12 Fizz\n15 FizzBuzz\n18 Fizz\n20 Buzz\n21 Fizz\n24 Fizz\n25 Buzz\n27 Fizz\n30 FizzBuzz\n33 Fizz\n35 Buzz\n36 Fizz\n39 Fizz\n40 Buzz\n42 Fizz\n45 FizzBuzz\n48 Fizz\n50 Buzz\n51 Fizz\n54 Fizz\n55 Buzz\n57 Fizz\n60 FizzBuzz\n63 Fizz\n65 Buzz\n66 Fizz\n69 Fizz\n70 Buzz\n72 Fizz\n75 FizzBuzz\n78 Fizz\n80 Buzz\n81 Fizz\n84 Fizz\n85 Buzz\n87 Fizz\n90 FizzBuzz\n93 Fizz\n95 Buzz\n96 Fizz\n99 Fizz\n100 Buzz\n"
     ]
    }
   ],
   "source": [
    "# 22. FizzBuzz Problem\n",
    "# Write a Python program that prints the numbers from 1 to 100. For multiples of 3, print \"Fizz\" instead of the number, for multiples of 5 print \"Buzz\", and for multiples of both 3 and 5 print \"FizzBuzz\".\n",
    "\n",
    "for each in range(1,101):\n",
    "    if each % 3 == 0 and each % 5 == 0:\n",
    "        print(each, \"FizzBuzz\")\n",
    "    elif each % 3 == 0:\n",
    "        print(each, \"Fizz\")\n",
    "    elif each % 5 == 0:\n",
    "        print(each, \"Buzz\") "
   ]
  },
  {
   "cell_type": "code",
   "execution_count": 0,
   "metadata": {
    "application/vnd.databricks.v1+cell": {
     "cellMetadata": {
      "byteLimit": 2048000,
      "rowLimit": 10000
     },
     "inputWidgets": {},
     "nuid": "9d52a215-6c88-4a00-9aba-6b1c6821cec8",
     "showTitle": false,
     "tableResultSettingsMap": {},
     "title": ""
    }
   },
   "outputs": [
    {
     "output_type": "stream",
     "name": "stdout",
     "output_type": "stream",
     "text": [
      "Out[23]: [[1, 4, 7], [2, 5, 8], [3, 6, 9]]"
     ]
    }
   ],
   "source": [
    "# 23. Transpose a Matrix\n",
    "# Write a Python function to transpose a given 2D matrix.\n",
    "\n",
    "matrix = [[1, 2, 3],[4, 5, 6],[7, 8, 9]]\n",
    "[[matrix[i][j] for i in range(len(matrix))] for j in range(len(matrix[0]))]"
   ]
  },
  {
   "cell_type": "code",
   "execution_count": 0,
   "metadata": {
    "application/vnd.databricks.v1+cell": {
     "cellMetadata": {
      "byteLimit": 2048000,
      "rowLimit": 10000
     },
     "inputWidgets": {},
     "nuid": "54fde94e-ed1a-4a09-946b-5776fb1d05a9",
     "showTitle": false,
     "tableResultSettingsMap": {},
     "title": ""
    }
   },
   "outputs": [
    {
     "output_type": "stream",
     "name": "stdout",
     "output_type": "stream",
     "text": [
      "Out[24]: {'a': 100, 'b': 500, 'c': 700, 'd': 500}"
     ]
    }
   ],
   "source": [
    "# 24. Merge Two Dictionaries\n",
    "# Given two dictionaries, merge them into one, combining keys and summing values if they share the same key.\n",
    "\n",
    "dict1 = {'a': 100, 'b': 200, 'c': 300}\n",
    "dict2 = {'b': 300, 'c': 400, 'd': 500}\n",
    "{key: dict1.get(key, 0) + dict2.get(key, 0) for key in dict1.keys() | dict2.keys()}"
   ]
  },
  {
   "cell_type": "code",
   "execution_count": 0,
   "metadata": {
    "application/vnd.databricks.v1+cell": {
     "cellMetadata": {
      "byteLimit": 2048000,
      "rowLimit": 10000
     },
     "inputWidgets": {},
     "nuid": "a0813dfb-5702-456b-8bc9-38eb325432eb",
     "showTitle": false,
     "tableResultSettingsMap": {},
     "title": ""
    }
   },
   "outputs": [
    {
     "output_type": "stream",
     "name": "stdout",
     "output_type": "stream",
     "text": [
      "Out[25]: 'programming'"
     ]
    }
   ],
   "source": [
    "# 25. Find the Longest Word in a Sentence\n",
    "# Write a Python function that finds the longest word in a given sentence.\n",
    "\n",
    "sentence = \"Python is a wonderful programming language\"\n",
    "sentList = sentence.split()\n",
    "sentList\n",
    "longWord = sentList[0]\n",
    "for each in range(0, len(sentList)-1):\n",
    "    if sentList[each] > sentList[each+1]:\n",
    "        longWord = sentList[each]\n",
    "longWord"
   ]
  },
  {
   "cell_type": "code",
   "execution_count": 0,
   "metadata": {
    "application/vnd.databricks.v1+cell": {
     "cellMetadata": {
      "byteLimit": 2048000,
      "rowLimit": 10000
     },
     "inputWidgets": {},
     "nuid": "37550f19-7fec-462d-8075-0dd08f23d839",
     "showTitle": false,
     "tableResultSettingsMap": {},
     "title": ""
    }
   },
   "outputs": [
    {
     "output_type": "stream",
     "name": "stdout",
     "output_type": "stream",
     "text": [
      "Out[26]: 6"
     ]
    }
   ],
   "source": [
    "# 26. Calculate the GCD of Two Numbers\n",
    "# Write a function to calculate the greatest common divisor (GCD) of two numbers.\n",
    "\n",
    "import math\n",
    "num1 = 48\n",
    "num2 = 18\n",
    "gcdValue = math.gcd(num1, num2)\n",
    "gcdValue"
   ]
  },
  {
   "cell_type": "code",
   "execution_count": 0,
   "metadata": {
    "application/vnd.databricks.v1+cell": {
     "cellMetadata": {
      "byteLimit": 2048000,
      "rowLimit": 10000
     },
     "inputWidgets": {},
     "nuid": "6eef2f4a-56ef-40c9-baed-346e674c9ea8",
     "showTitle": false,
     "tableResultSettingsMap": {},
     "title": ""
    }
   },
   "outputs": [
    {
     "output_type": "stream",
     "name": "stdout",
     "output_type": "stream",
     "text": [
      "Out[27]: 6"
     ]
    }
   ],
   "source": [
    "gcdVal = lambda num1, num2: num1 if num2 == 0 else gcdVal(num2, num1 % num2)\n",
    "gcdVal(num1,num2)"
   ]
  },
  {
   "cell_type": "code",
   "execution_count": 0,
   "metadata": {
    "application/vnd.databricks.v1+cell": {
     "cellMetadata": {
      "byteLimit": 2048000,
      "rowLimit": 10000
     },
     "inputWidgets": {},
     "nuid": "3ee6959c-d207-4d41-95e0-1cb938315a78",
     "showTitle": false,
     "tableResultSettingsMap": {},
     "title": ""
    }
   },
   "outputs": [
    {
     "output_type": "stream",
     "name": "stdout",
     "output_type": "stream",
     "text": [
      "Out[28]: 35"
     ]
    }
   ],
   "source": [
    "# 27. Find the Second Largest Number in a List\n",
    "# Write a Python program that finds the second largest number in a list of integers.\n",
    "\n",
    "numbers = [12, 35, 1, 10, 34, 1]\n",
    "sorted(numbers)[-1]"
   ]
  },
  {
   "cell_type": "code",
   "execution_count": 0,
   "metadata": {
    "application/vnd.databricks.v1+cell": {
     "cellMetadata": {
      "byteLimit": 2048000,
      "rowLimit": 10000
     },
     "inputWidgets": {},
     "nuid": "0465878c-0fef-4840-b23c-433466e2726a",
     "showTitle": false,
     "tableResultSettingsMap": {},
     "title": ""
    }
   },
   "outputs": [
    {
     "output_type": "stream",
     "name": "stdout",
     "output_type": "stream",
     "text": [
      "Out[29]: 'Ths s  tst sntnc'"
     ]
    }
   ],
   "source": [
    "# 28. Remove Vowels from a String\n",
    "# Write a Python program that removes all vowels from a given string.\n",
    "\n",
    "string = \"This is a test sentence\"\n",
    "vowels = ['a', 'e', 'i', 'o', 'u']\n",
    "strJoin = \"\"\n",
    "for each in vowels:\n",
    "    strJoin = ''.join(string.replace(each, \"\"))\n",
    "    string = strJoin\n",
    "string"
   ]
  },
  {
   "cell_type": "code",
   "execution_count": 0,
   "metadata": {
    "application/vnd.databricks.v1+cell": {
     "cellMetadata": {
      "byteLimit": 2048000,
      "rowLimit": 10000
     },
     "inputWidgets": {},
     "nuid": "80db4425-dbb7-4177-ae08-45d0105f9fa6",
     "showTitle": false,
     "tableResultSettingsMap": {},
     "title": ""
    }
   },
   "outputs": [
    {
     "output_type": "stream",
     "name": "stdout",
     "output_type": "stream",
     "text": [
      "Out[30]: 'RAM'"
     ]
    }
   ],
   "source": [
    "# 29. Convert a String to an Acronym\n",
    "# Write a Python function that converts a string into an acronym.\n",
    "\n",
    "stringInp = \"Random Access Memory\"\n",
    "stringList = stringInp.split()\n",
    "''.join([each[0] for each in stringList])"
   ]
  },
  {
   "cell_type": "code",
   "execution_count": 0,
   "metadata": {
    "application/vnd.databricks.v1+cell": {
     "cellMetadata": {
      "byteLimit": 2048000,
      "rowLimit": 10000
     },
     "inputWidgets": {},
     "nuid": "46f41f66-3ffb-45f7-9e18-76b7de94b375",
     "showTitle": false,
     "tableResultSettingsMap": {},
     "title": ""
    }
   },
   "outputs": [
    {
     "output_type": "stream",
     "name": "stdout",
     "output_type": "stream",
     "text": [
      "Out[31]: 5"
     ]
    }
   ],
   "source": [
    "# 30. Count the Number of Words in a Sentence\n",
    "# Write a Python function that counts the number of words in a given sentence.\n",
    "\n",
    "sentence = \"This is an example sentence\"\n",
    "len(sentence.split())"
   ]
  },
  {
   "cell_type": "code",
   "execution_count": 0,
   "metadata": {
    "application/vnd.databricks.v1+cell": {
     "cellMetadata": {
      "byteLimit": 2048000,
      "rowLimit": 10000
     },
     "inputWidgets": {},
     "nuid": "8372a795-20b3-4d5c-a913-8099fa737878",
     "showTitle": false,
     "tableResultSettingsMap": {},
     "title": ""
    }
   },
   "outputs": [
    {
     "output_type": "stream",
     "name": "stdout",
     "output_type": "stream",
     "text": [
      "Out[32]: {'h': 1, 'e': 1, 'l': 3, 'o': 2, 'w': 1, 'r': 1, 'd': 1}"
     ]
    }
   ],
   "source": [
    "# 31. Count occurences of characters in a string\n",
    "# Write a python program that counts the number of occurences of each character in a string.\n",
    "string = \"hello world\"\n",
    "{each:string.count(each) for each in string if each != \" \"}"
   ]
  },
  {
   "cell_type": "code",
   "execution_count": 0,
   "metadata": {
    "application/vnd.databricks.v1+cell": {
     "cellMetadata": {
      "byteLimit": 2048000,
      "rowLimit": 10000
     },
     "inputWidgets": {},
     "nuid": "dc56c469-9dbf-4f80-b1da-01c70cf3b1c7",
     "showTitle": false,
     "tableResultSettingsMap": {},
     "title": ""
    }
   },
   "outputs": [
    {
     "output_type": "stream",
     "name": "stdout",
     "output_type": "stream",
     "text": [
      "Out[33]: [1, 2, 3, 4, 5, 6, 7, 8, 9]"
     ]
    }
   ],
   "source": [
    "# 32. Flatten a Nested List.\n",
    "# Given a nested list, write a python program to flatten it into a single list.\n",
    "nested_list = [[1, 2, [3, 4]], [5, 6], [7, [8, 9]]]\n",
    "def flattenList(nested_list):\n",
    "    return [item for sublist in nested_list for item in (flattenList(sublist) if isinstance(sublist,list) else [sublist])]\n",
    "\n",
    "flattenList(nested_list)"
   ]
  },
  {
   "cell_type": "code",
   "execution_count": 0,
   "metadata": {
    "application/vnd.databricks.v1+cell": {
     "cellMetadata": {
      "byteLimit": 2048000,
      "rowLimit": 10000
     },
     "inputWidgets": {},
     "nuid": "77f82af3-df44-407d-ae5b-bd069345ee0f",
     "showTitle": false,
     "tableResultSettingsMap": {},
     "title": ""
    }
   },
   "outputs": [
    {
     "output_type": "stream",
     "name": "stdout",
     "output_type": "stream",
     "text": [
      "Out[34]: [5]"
     ]
    }
   ],
   "source": [
    "# 33. Find the common elements in three lists.\n",
    "# Write a python program to find common elements in three lists.\n",
    "list1 = [1, 2, 3, 4, 5]\n",
    "list2 = [4, 5, 6, 7]\n",
    "list3 = [5, 7, 8, 9]\n",
    "\n",
    "list(set(list2).intersection(set(list3)).intersection(set(list1)))"
   ]
  },
  {
   "cell_type": "code",
   "execution_count": 0,
   "metadata": {
    "application/vnd.databricks.v1+cell": {
     "cellMetadata": {
      "byteLimit": 2048000,
      "rowLimit": 10000
     },
     "inputWidgets": {},
     "nuid": "beb3b50a-8bba-4d73-b3f9-26953b52ef74",
     "showTitle": false,
     "tableResultSettingsMap": {},
     "title": ""
    }
   },
   "outputs": [
    {
     "output_type": "stream",
     "name": "stdout",
     "output_type": "stream",
     "text": [
      "[0, 1, 1, 2, 3, 5, 8, 13, 21, 34]\n"
     ]
    }
   ],
   "source": [
    "# 34. Generate Fibonacci Sequence.\n",
    "# Write a python program to generate first n numbers in the fibonacci sequence.\n",
    "n = 10\n",
    "listNew = [0, 1]\n",
    "for each in range(0, n-2):\n",
    "    listNew.append(listNew[each] + listNew[each+1])\n",
    "print(listNew)"
   ]
  },
  {
   "cell_type": "code",
   "execution_count": 0,
   "metadata": {
    "application/vnd.databricks.v1+cell": {
     "cellMetadata": {
      "byteLimit": 2048000,
      "rowLimit": 10000
     },
     "inputWidgets": {},
     "nuid": "322a9324-f201-424a-a9f9-2b843a578bfa",
     "showTitle": false,
     "tableResultSettingsMap": {},
     "title": ""
    }
   },
   "outputs": [
    {
     "output_type": "stream",
     "name": "stdout",
     "output_type": "stream",
     "text": [
      "Out[36]: {'a': 1, 'b': 2, 'c': 3}"
     ]
    }
   ],
   "source": [
    "# 35. Convert List of Tuples to Dictionary\n",
    "# Given a list of tuples, convert it into a dictionary.\n",
    "\n",
    "tuples = [('a', 1), ('b', 2), ('c', 3)]\n",
    "{i[0]:j for i in tuples for j in i}"
   ]
  },
  {
   "cell_type": "code",
   "execution_count": 0,
   "metadata": {
    "application/vnd.databricks.v1+cell": {
     "cellMetadata": {
      "byteLimit": 2048000,
      "rowLimit": 10000
     },
     "inputWidgets": {},
     "nuid": "7c7e50cf-6fc7-430e-9fda-657e39aa7d1e",
     "showTitle": false,
     "tableResultSettingsMap": {},
     "title": ""
    }
   },
   "outputs": [
    {
     "output_type": "stream",
     "name": "stdout",
     "output_type": "stream",
     "text": [
      "Out[37]: 45"
     ]
    }
   ],
   "source": [
    "# 36. Find the Second Largest Element in a List\n",
    "# Write a Python function to find the second largest number in a list.\n",
    "\n",
    "numbers = [10, 20, 4, 45, 21, 99]\n",
    "sorted(numbers)[-2]"
   ]
  },
  {
   "cell_type": "code",
   "execution_count": 0,
   "metadata": {
    "application/vnd.databricks.v1+cell": {
     "cellMetadata": {
      "byteLimit": 2048000,
      "rowLimit": 10000
     },
     "inputWidgets": {},
     "nuid": "5922db4c-4f4b-4156-9b57-0d15d0dcc433",
     "showTitle": false,
     "tableResultSettingsMap": {},
     "title": ""
    }
   },
   "outputs": [
    {
     "output_type": "stream",
     "name": "stdout",
     "output_type": "stream",
     "text": [
      "Out[38]: True"
     ]
    }
   ],
   "source": [
    "# 37. Check if Two Strings are Anagrams\n",
    "# Write a Python function to check if two strings are anagrams of each other.\n",
    "\n",
    "string1 = \"listen\"\n",
    "string2 = \"silent\"\n",
    "sorted(string1)==sorted(string2)"
   ]
  },
  {
   "cell_type": "code",
   "execution_count": 0,
   "metadata": {
    "application/vnd.databricks.v1+cell": {
     "cellMetadata": {
      "byteLimit": 2048000,
      "rowLimit": 10000
     },
     "inputWidgets": {},
     "nuid": "fea2aec1-378a-4d6f-b678-f28bc05742b4",
     "showTitle": false,
     "tableResultSettingsMap": {},
     "title": ""
    }
   },
   "outputs": [
    {
     "output_type": "stream",
     "name": "stdout",
     "output_type": "stream",
     "text": [
      "Out[39]: [1, 2, 3, 4, 5, 6, 7, 8]"
     ]
    }
   ],
   "source": [
    "# 38. Merge Two Sorted Lists\n",
    "# Write a Python function to merge two sorted lists into a single sorted list.\n",
    "\n",
    "list1 = [1, 3, 5, 7]\n",
    "list2 = [2, 4, 6, 8]\n",
    "sorted(list1 + list2)"
   ]
  },
  {
   "cell_type": "code",
   "execution_count": 0,
   "metadata": {
    "application/vnd.databricks.v1+cell": {
     "cellMetadata": {
      "byteLimit": 2048000,
      "rowLimit": 10000
     },
     "inputWidgets": {},
     "nuid": "17be6441-c47d-4e12-819a-36cd048db3e6",
     "showTitle": false,
     "tableResultSettingsMap": {},
     "title": ""
    }
   },
   "outputs": [
    {
     "output_type": "stream",
     "name": "stdout",
     "output_type": "stream",
     "text": [
      "Out[40]: [4, 5, 1, 2, 3]"
     ]
    }
   ],
   "source": [
    "# 39. Rotate Elements in a List\n",
    "# Write a Python program to rotate elements in a list by a given number of steps.\n",
    "\n",
    "numbers = [1, 2, 3, 4, 5]\n",
    "steps = 2\n",
    "numbers[-steps:] + numbers[:-steps]"
   ]
  },
  {
   "cell_type": "code",
   "execution_count": 0,
   "metadata": {
    "application/vnd.databricks.v1+cell": {
     "cellMetadata": {
      "byteLimit": 2048000,
      "rowLimit": 10000
     },
     "inputWidgets": {},
     "nuid": "ebb2c562-0a9c-4cfb-9559-7c0fec726646",
     "showTitle": false,
     "tableResultSettingsMap": {},
     "title": ""
    }
   },
   "outputs": [
    {
     "output_type": "stream",
     "name": "stdout",
     "output_type": "stream",
     "text": [
      "Out[41]: True"
     ]
    }
   ],
   "source": [
    "# 40. Check if a List is Sorted\n",
    "# Write a Python function to check if a list is sorted in ascending order.\n",
    "\n",
    "numbers = [1, 2, 3, 4, 5]\n",
    "sorted(numbers) == numbers"
   ]
  },
  {
   "cell_type": "code",
   "execution_count": 0,
   "metadata": {
    "application/vnd.databricks.v1+cell": {
     "cellMetadata": {
      "byteLimit": 2048000,
      "rowLimit": 10000
     },
     "inputWidgets": {},
     "nuid": "6de56cf5-24a3-45f7-beec-4a644b1c41f8",
     "showTitle": false,
     "tableResultSettingsMap": {},
     "title": ""
    }
   },
   "outputs": [
    {
     "output_type": "stream",
     "name": "stdout",
     "output_type": "stream",
     "text": [
      "Out[42]: 6"
     ]
    }
   ],
   "source": [
    "# 41. Count the Vowels in a String\n",
    "# Write a Python program to count the number of vowels in a given string.\n",
    "\n",
    "string = \"Example sentence\"\n",
    "vowels = ['a', 'e', 'i', 'o', 'u']\n",
    "count = 0\n",
    "for each in string:\n",
    "    if each.lower() in vowels:\n",
    "        count+=1\n",
    "count"
   ]
  },
  {
   "cell_type": "code",
   "execution_count": 0,
   "metadata": {
    "application/vnd.databricks.v1+cell": {
     "cellMetadata": {
      "byteLimit": 2048000,
      "rowLimit": 10000
     },
     "inputWidgets": {},
     "nuid": "cf2f6476-5e5a-4d18-be0c-28fb0d2e1033",
     "showTitle": false,
     "tableResultSettingsMap": {},
     "title": ""
    }
   },
   "outputs": [
    {
     "output_type": "stream",
     "name": "stdout",
     "output_type": "stream",
     "text": [
      "Out[43]: False"
     ]
    }
   ],
   "source": [
    "# 42. Check if All Elements in a List are Unique\n",
    "# Write a Python program to check if all elements in a list are unique.\n",
    "\n",
    "numbers = [1, 2, 3, 4, 5, 1]\n",
    "list(set(numbers)) == numbers"
   ]
  },
  {
   "cell_type": "code",
   "execution_count": 0,
   "metadata": {
    "application/vnd.databricks.v1+cell": {
     "cellMetadata": {
      "byteLimit": 2048000,
      "rowLimit": 10000
     },
     "inputWidgets": {},
     "nuid": "15a3d8f8-1e1c-4357-a928-4cabb7456b0c",
     "showTitle": false,
     "tableResultSettingsMap": {},
     "title": ""
    }
   },
   "outputs": [
    {
     "output_type": "stream",
     "name": "stdout",
     "output_type": "stream",
     "text": [
      "Out[44]: 10"
     ]
    }
   ],
   "source": [
    "# 43. Find the Length of the Longest Word in a List\n",
    "# Write a Python function to find the length of the longest word in a given list of words.\n",
    "\n",
    "words = [\"Python\", \"JavaScript\", \"C++\", \"Java\"]\n",
    "max([len(i) for i in words])"
   ]
  },
  {
   "cell_type": "code",
   "execution_count": 0,
   "metadata": {
    "application/vnd.databricks.v1+cell": {
     "cellMetadata": {
      "byteLimit": 2048000,
      "rowLimit": 10000
     },
     "inputWidgets": {},
     "nuid": "502e1937-60e1-49fa-ab75-c9fae4659611",
     "showTitle": false,
     "tableResultSettingsMap": {},
     "title": ""
    }
   },
   "outputs": [
    {
     "output_type": "stream",
     "name": "stdout",
     "output_type": "stream",
     "text": [
      "Out[45]: [5, 4, 3, 2, 1]"
     ]
    }
   ],
   "source": [
    "# 44. Reverse a List Without Using reverse()\n",
    "# Write a Python program to reverse a list without using the reverse() method.\n",
    "\n",
    "numbers = [1, 2, 3, 4, 5]\n",
    "numbers[::-1]"
   ]
  },
  {
   "cell_type": "code",
   "execution_count": 0,
   "metadata": {
    "application/vnd.databricks.v1+cell": {
     "cellMetadata": {
      "byteLimit": 2048000,
      "rowLimit": 10000
     },
     "inputWidgets": {},
     "nuid": "842b8bb7-fe51-4243-9c18-a95e599cdc3e",
     "showTitle": false,
     "tableResultSettingsMap": {},
     "title": ""
    }
   },
   "outputs": [
    {
     "output_type": "stream",
     "name": "stdout",
     "output_type": "stream",
     "text": [
      "Out[46]: 120"
     ]
    }
   ],
   "source": [
    "# 45. Find the Factorial of a Number Using Iteration\n",
    "# Write a Python function to calculate the factorial of a number using a loop (without recursion).\n",
    "\n",
    "from functools import reduce\n",
    "num = 6\n",
    "[each for each in range(1, num+1)]\n",
    "reduce(lambda x, y: x * y, numbers)"
   ]
  },
  {
   "cell_type": "code",
   "execution_count": 0,
   "metadata": {
    "application/vnd.databricks.v1+cell": {
     "cellMetadata": {
      "byteLimit": 2048000,
      "rowLimit": 10000
     },
     "inputWidgets": {},
     "nuid": "6be361fa-35d2-4f46-97a8-e6ae35834baf",
     "showTitle": false,
     "tableResultSettingsMap": {},
     "title": ""
    }
   },
   "outputs": [
    {
     "output_type": "stream",
     "name": "stdout",
     "output_type": "stream",
     "text": [
      "Out[84]: True"
     ]
    }
   ],
   "source": [
    "# 46. Check if a String is a Pangram\n",
    "# Write a Python function to check if a given string is a pangram (contains every letter of the alphabet at least once).\n",
    "\n",
    "stringVal = \"The quick brown fox jumps over the lazy dog\"\n",
    "import string\n",
    "alphabets = ''.join(list(string.ascii_lowercase))\n",
    "''.join(sorted(set(sorted(stringVal.lower().replace(\" \", \"\"))))) == alphabets"
   ]
  },
  {
   "cell_type": "code",
   "execution_count": 0,
   "metadata": {
    "application/vnd.databricks.v1+cell": {
     "cellMetadata": {
      "byteLimit": 2048000,
      "rowLimit": 10000
     },
     "inputWidgets": {},
     "nuid": "4012adfd-2129-4f6a-beab-57ff5b663f48",
     "showTitle": false,
     "tableResultSettingsMap": {},
     "title": ""
    }
   },
   "outputs": [
    {
     "output_type": "stream",
     "name": "stdout",
     "output_type": "stream",
     "text": [
      "Out[13]: [(4, 6), (5, 5), (6, 4)]"
     ]
    }
   ],
   "source": [
    "# 47. Find Pairs with a Given Sum\n",
    "# Given a list of integers, find all pairs that sum up to a specific target.\n",
    "\n",
    "numbers = [2, 4, 3, 5, 7, 8, 9]\n",
    "target = 10\n",
    "[(each,other) for each in range(0, len(numbers)) for other in range(0, len(numbers)) if each + other == target]"
   ]
  },
  {
   "cell_type": "code",
   "execution_count": 0,
   "metadata": {
    "application/vnd.databricks.v1+cell": {
     "cellMetadata": {
      "byteLimit": 2048000,
      "rowLimit": 10000
     },
     "inputWidgets": {},
     "nuid": "30e98612-1624-4d01-aafa-ba1feb43a892",
     "showTitle": false,
     "tableResultSettingsMap": {},
     "title": ""
    }
   },
   "outputs": [
    {
     "output_type": "stream",
     "name": "stdout",
     "output_type": "stream",
     "text": [
      "Out[14]: [1, 2, 3, 4, 5]"
     ]
    }
   ],
   "source": [
    "# 48. Remove All Duplicates from a List\n",
    "# Write a Python function to remove all duplicates from a list and retain only unique values.\n",
    "\n",
    "numbers = [1, 2, 2, 3, 4, 4, 5, 5]\n",
    "list(set(numbers))"
   ]
  },
  {
   "cell_type": "code",
   "execution_count": 0,
   "metadata": {
    "application/vnd.databricks.v1+cell": {
     "cellMetadata": {
      "byteLimit": 2048000,
      "rowLimit": 10000
     },
     "inputWidgets": {},
     "nuid": "4b40eb29-1e4f-42ce-ba18-da5d0bcebd38",
     "showTitle": false,
     "tableResultSettingsMap": {},
     "title": ""
    }
   },
   "outputs": [
    {
     "output_type": "stream",
     "name": "stdout",
     "output_type": "stream",
     "text": [
      "Out[35]: [['listen', 'silent', 'enlist'], ['rat', 'tar', 'art']]"
     ]
    }
   ],
   "source": [
    "# 49. Group Anagrams from a List of Words\n",
    "# Write a Python program that groups words that are anagrams from a given list.\n",
    "\n",
    "words = [\"listen\", \"silent\", \"enlist\", \"rat\", \"tar\", \"art\"]\n",
    "dictVal = {}\n",
    "for word in words:\n",
    "    sorted_word = ''.join(sorted(word))\n",
    "    dictVal.setdefault(sorted_word, []).append(word)\n",
    "dictVal\n",
    "[group for group in dictVal.values()]"
   ]
  },
  {
   "cell_type": "code",
   "execution_count": 0,
   "metadata": {
    "application/vnd.databricks.v1+cell": {
     "cellMetadata": {
      "byteLimit": 2048000,
      "rowLimit": 10000
     },
     "inputWidgets": {},
     "nuid": "b0bd43e7-d97e-4a89-af5a-6d32731e5778",
     "showTitle": false,
     "tableResultSettingsMap": {},
     "title": ""
    }
   },
   "outputs": [
    {
     "output_type": "stream",
     "name": "stdout",
     "output_type": "stream",
     "text": [
      "Out[47]: 15"
     ]
    }
   ],
   "source": [
    "# 50. Find the Sum of All Numbers in a List Using Recursion\n",
    "# Write a Python recursive function to find the sum of all elements in a list.\n",
    "\n",
    "numbers = [1, 2, 3, 4, 5]\n",
    "def sumFunc(numbers):\n",
    "    if not numbers:\n",
    "        return 0\n",
    "    return numbers[0] + sumFunc(numbers[1:])\n",
    "sumFunc(numbers)"
   ]
  }
 ],
 "metadata": {
  "application/vnd.databricks.v1+notebook": {
   "computePreferences": null,
   "dashboards": [],
   "environmentMetadata": null,
   "inputWidgetPreferences": null,
   "language": "python",
   "notebookMetadata": {
    "pythonIndentUnit": 4
   },
   "notebookName": "Python Exercises - 50",
   "widgets": {}
  }
 },
 "nbformat": 4,
 "nbformat_minor": 0
}